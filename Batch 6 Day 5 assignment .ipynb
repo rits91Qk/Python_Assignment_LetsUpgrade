{
 "cells": [
  {
   "cell_type": "code",
   "execution_count": 23,
   "metadata": {},
   "outputs": [
    {
     "name": "stdout",
     "output_type": "stream",
     "text": [
      "[1, 2, 10, 4, 1, 56, 2, 1, 3, 56, 4, 0, 0, 0, 0, 0]\n"
     ]
    }
   ],
   "source": [
    "#Assignment 2-1 Sorted the values\n",
    "l1 = [0,1,2,10,4,1,0,56,2,0,1,3,0,56,0,4]\n",
    "\n",
    "fun = ([ele for ele in test_list if not isinstance(ele, int) or ele or isinstance(ele, bool)] \n",
    "+ [0] * len(test_list))[:len(test_list)] \n",
    "print(str(res)) "
   ]
  },
  {
   "cell_type": "code",
   "execution_count": 32,
   "metadata": {},
   "outputs": [
    {
     "name": "stdout",
     "output_type": "stream",
     "text": [
      "[5, 10, 15, 20, 25, 35, 40, 45, 60, 60, 70, 80]\n"
     ]
    }
   ],
   "source": [
    "#Assignment 2-2 merge list and sort it without sort method\n",
    "\n",
    "l1 = [10, 20, 40, 60,70,80] \n",
    "l2 = [5, 15, 25, 35,45,60] \n",
    "a1 = len(l1) \n",
    "a2 = len(l2) \n",
    "  \n",
    "test1 = [] \n",
    "i, j = 0, 0\n",
    "while i < a1 and j < a2: \n",
    "    if l1[i] < l2[j]: \n",
    "      test1.append(l1[i]) \n",
    "      i += 1\n",
    "    else: \n",
    "      test1.append(l2[j]) \n",
    "      j += 1\n",
    "test1 = test1 + l1[i:] + l2[j:] \n",
    "print (str(test1))"
   ]
  }
 ],
 "metadata": {
  "kernelspec": {
   "display_name": "Python 3",
   "language": "python",
   "name": "python3"
  },
  "language_info": {
   "codemirror_mode": {
    "name": "ipython",
    "version": 3
   },
   "file_extension": ".py",
   "mimetype": "text/x-python",
   "name": "python",
   "nbconvert_exporter": "python",
   "pygments_lexer": "ipython3",
   "version": "3.7.6"
  }
 },
 "nbformat": 4,
 "nbformat_minor": 4
}
