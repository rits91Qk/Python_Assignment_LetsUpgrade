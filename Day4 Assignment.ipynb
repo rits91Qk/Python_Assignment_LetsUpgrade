{
 "cells": [
  {
   "cell_type": "code",
   "execution_count": 3,
   "metadata": {},
   "outputs": [
    {
     "name": "stdout",
     "output_type": "stream",
     "text": [
      "String : What we think we become ; we are Python programmer\n",
      "Substring : we\n",
      "occurrences Substring in String: [5, 14, 26]\n"
     ]
    }
   ],
   "source": [
    "#occurrences of substring in String\n",
    "str1 = \"What we think we become ; we are Python programmer\"\n",
    "sub1 = \"we\" \n",
    "print(\"String : \" + str1) \n",
    "print(\"Substring : \" + sub1) \n",
    "res = [i for i in range(len(str1)) if str1.startswith(sub1, i)] \n",
    "print(\"occurrences Substring in String: \" + str(res))"
   ]
  },
  {
   "cell_type": "code",
   "execution_count": 4,
   "metadata": {},
   "outputs": [
    {
     "data": {
      "text/plain": [
       "True"
      ]
     },
     "execution_count": 4,
     "metadata": {},
     "output_type": "execute_result"
    }
   ],
   "source": [
    "#islower() method finding  \n",
    "str2 = \"this is python assignment\"\n",
    "str2.islower()"
   ]
  },
  {
   "cell_type": "code",
   "execution_count": 6,
   "metadata": {},
   "outputs": [
    {
     "data": {
      "text/plain": [
       "False"
      ]
     },
     "execution_count": 6,
     "metadata": {},
     "output_type": "execute_result"
    }
   ],
   "source": [
    "str3 = \"THIS is Python LU\"\n",
    "str3.islower()"
   ]
  },
  {
   "cell_type": "code",
   "execution_count": 8,
   "metadata": {},
   "outputs": [
    {
     "data": {
      "text/plain": [
       "True"
      ]
     },
     "execution_count": 8,
     "metadata": {},
     "output_type": "execute_result"
    }
   ],
   "source": [
    "str4 = \"THIS IS PYTHON\"\n",
    "str4.isupper()"
   ]
  },
  {
   "cell_type": "code",
   "execution_count": 9,
   "metadata": {},
   "outputs": [
    {
     "data": {
      "text/plain": [
       "False"
      ]
     },
     "execution_count": 9,
     "metadata": {},
     "output_type": "execute_result"
    }
   ],
   "source": [
    "str5 = \"this is python\"\n",
    "str5.isupper()"
   ]
  }
 ],
 "metadata": {
  "kernelspec": {
   "display_name": "Python 3",
   "language": "python",
   "name": "python3"
  },
  "language_info": {
   "codemirror_mode": {
    "name": "ipython",
    "version": 3
   },
   "file_extension": ".py",
   "mimetype": "text/x-python",
   "name": "python",
   "nbconvert_exporter": "python",
   "pygments_lexer": "ipython3",
   "version": "3.7.6"
  }
 },
 "nbformat": 4,
 "nbformat_minor": 4
}
