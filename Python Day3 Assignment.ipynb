{
 "cells": [
  {
   "cell_type": "code",
   "execution_count": 24,
   "metadata": {},
   "outputs": [
    {
     "name": "stdin",
     "output_type": "stream",
     "text": [
      "enter the number 47\n"
     ]
    },
    {
     "name": "stdout",
     "output_type": "stream",
     "text": [
      "This number is prime number and number is 47\n"
     ]
    }
   ],
   "source": [
    "#Input number for the prime number or not prime number \n",
    "\n",
    "a = int(input(\"enter the number\"))\n",
    "if a == 1 :\n",
    "    print(\"This is not prime number\",a)\n",
    "elif a%2 == 1 :\n",
    "    print(\"This number is prime number and number is\",a)\n",
    "elif a == 2 :\n",
    "    print(\"This number is prime\",a)\n",
    "else :\n",
    "      print(\"This is not prime number\",a)"
   ]
  },
  {
   "cell_type": "code",
   "execution_count": 25,
   "metadata": {},
   "outputs": [
    {
     "name": "stdin",
     "output_type": "stream",
     "text": [
      "Enter the n Number for the sum 20\n"
     ]
    },
    {
     "name": "stdout",
     "output_type": "stream",
     "text": [
      "1\n",
      "3\n",
      "6\n",
      "10\n",
      "15\n",
      "21\n",
      "28\n",
      "36\n",
      "45\n",
      "55\n",
      "66\n",
      "78\n",
      "91\n",
      "105\n",
      "120\n",
      "136\n",
      "153\n",
      "171\n",
      "190\n",
      "210\n"
     ]
    }
   ],
   "source": [
    "#Sum of n number using the while loop\n",
    "sum1 = 0\n",
    "i = 1\n",
    "num1 = int(input(\"Enter the n Number for the sum\"))\n",
    "if num1 == 0:\n",
    "    print(\"Sum is 0\")\n",
    "while(i<=num1) :\n",
    "    sum1 = sum1 + i\n",
    "    i +=1\n",
    "    print(sum1)"
   ]
  },
  {
   "cell_type": "code",
   "execution_count": null,
   "metadata": {},
   "outputs": [],
   "source": []
  }
 ],
 "metadata": {
  "kernelspec": {
   "display_name": "Python 3",
   "language": "python",
   "name": "python3"
  },
  "language_info": {
   "codemirror_mode": {
    "name": "ipython",
    "version": 3
   },
   "file_extension": ".py",
   "mimetype": "text/x-python",
   "name": "python",
   "nbconvert_exporter": "python",
   "pygments_lexer": "ipython3",
   "version": "3.7.6"
  }
 },
 "nbformat": 4,
 "nbformat_minor": 4
}
