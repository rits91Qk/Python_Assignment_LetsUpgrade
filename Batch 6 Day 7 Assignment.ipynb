{
 "cells": [
  {
   "cell_type": "code",
   "execution_count": 33,
   "metadata": {},
   "outputs": [
    {
     "name": "stdout",
     "output_type": "stream",
     "text": [
      "{'FTP': 21, 'SSH': 22, 'telnet': 23, 'http': 80}\n"
     ]
    }
   ],
   "source": [
    "#Assignment 1 : Make a new dictionary in which keys become values and values become keys,\n",
    "\n",
    "port1 = {21: \"FTP\", 22:\"SSH\", 23: \"telnet\", 80: \"http\"}\n",
    "\n",
    "port2 = port1.copy()\n",
    "\n",
    "port2_reverse = dict(zip(port2.values(),port2.keys()))\n",
    "               \n",
    "print(port2_reverse)\n"
   ]
  },
  {
   "cell_type": "code",
   "execution_count": 36,
   "metadata": {},
   "outputs": [
    {
     "name": "stdout",
     "output_type": "stream",
     "text": [
      "[3, 7, 11, 9]\n"
     ]
    }
   ],
   "source": [
    "#Assignment 2 : Take a list of tuple as shown below.[(1,2), (3,4), (5,6),(4,5)] Make a new list which contains sum of number of tuples.\n",
    "\n",
    "list1 = [(1,2), (3,4), (5,6),(4,5)]\n",
    "\n",
    "list2 = []\n",
    "\n",
    "for a,b in list1 :\n",
    "    \n",
    "    c = a + b\n",
    "\n",
    "    list2.append(c)\n",
    "    \n",
    "print(list2)"
   ]
  },
  {
   "cell_type": "code",
   "execution_count": 37,
   "metadata": {},
   "outputs": [
    {
     "name": "stdout",
     "output_type": "stream",
     "text": [
      "[1, 2, 3, 1, 2, 'a', 'hit', 'less']\n"
     ]
    }
   ],
   "source": [
    "'''Assignment 3 :\n",
    "Take a list as shown below \n",
    "[(1,2,3), [1,2], ['a','hit','less']]\n",
    "The List contains tuple and lists. Make the elements of inner lists and tuples to outer list'''\n",
    "\n",
    "list3 = [(1,2,3), [1,2], ['a','hit','less']]\n",
    "\n",
    "list4 = []\n",
    "\n",
    "for m in list3 :\n",
    "    for n in m :\n",
    "        list4.append(n)\n",
    "print(list4)\n",
    "        "
   ]
  },
  {
   "cell_type": "code",
   "execution_count": null,
   "metadata": {},
   "outputs": [],
   "source": []
  }
 ],
 "metadata": {
  "kernelspec": {
   "display_name": "Python 3",
   "language": "python",
   "name": "python3"
  },
  "language_info": {
   "codemirror_mode": {
    "name": "ipython",
    "version": 3
   },
   "file_extension": ".py",
   "mimetype": "text/x-python",
   "name": "python",
   "nbconvert_exporter": "python",
   "pygments_lexer": "ipython3",
   "version": "3.7.6"
  }
 },
 "nbformat": 4,
 "nbformat_minor": 4
}
